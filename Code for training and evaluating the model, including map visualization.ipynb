{
  "cells": [
    {
      "cell_type": "code",
      "execution_count": null,
      "metadata": {
        "colab": {
          "base_uri": "https://localhost:8080/"
        },
        "id": "VBUEW_64HxLj",
        "outputId": "e01b970a-b1e2-4f3f-ed28-82d29460b6b9"
      },
      "outputs": [],
      "source": [
        "from google.colab import drive\n",
        "drive.mount('/content/drive')"
      ]
    },
    {
      "cell_type": "markdown",
      "metadata": {
        "id": "TINK3TyNLxHr"
      },
      "source": [
        "Importing Libraries"
      ]
    },
    {
      "cell_type": "code",
      "execution_count": null,
      "metadata": {
        "id": "tkyasLkfHz87"
      },
      "outputs": [],
      "source": [
        "import numpy as np\n",
        "import pandas as pd"
      ]
    },
    {
      "cell_type": "code",
      "execution_count": null,
      "metadata": {
        "colab": {
          "base_uri": "https://localhost:8080/",
          "height": 377
        },
        "id": "K46_Fa4kH1gP",
        "outputId": "9bdb9872-9e29-4100-88c2-c45ef0e59f60"
      },
      "outputs": [],
      "source": [
        "data=pd.read_excel(\"/content/drive/MyDrive/SML Project/Supply_Chain.xlsx\")\n",
        "data.head()"
      ]
    },
    {
      "cell_type": "code",
      "execution_count": null,
      "metadata": {
        "colab": {
          "base_uri": "https://localhost:8080/"
        },
        "id": "MeKbg-g8H5rE",
        "outputId": "e6bb4d5d-0413-41fd-b821-fc789210fb17"
      },
      "outputs": [],
      "source": [
        "data.info()"
      ]
    },
    {
      "cell_type": "code",
      "execution_count": null,
      "metadata": {
        "id": "YbhSnkgdU4MY"
      },
      "outputs": [],
      "source": [
        "data['order date']= pd.to_datetime(data['order date (DateOrders)'])\n",
        "data['order year']=data['order date'].dt.year\n",
        "data['order month']=data['order date'].dt.month\n",
        "data['order day']=data['order date'].dt.day\n",
        "data['order hour']=data['order date'].dt.hour\n",
        "data['order minute']=data['order date'].dt.minute"
      ]
    },
    {
      "cell_type": "code",
      "execution_count": null,
      "metadata": {
        "colab": {
          "base_uri": "https://localhost:8080/"
        },
        "id": "dEKQx40sH7qK",
        "outputId": "154bcf10-9140-4f3b-bc2a-247474cc9d15"
      },
      "outputs": [],
      "source": [
        "df = data.loc[:, ['order day','order hour','order minute','Order Status','Late_delivery_risk','Days for shipment (scheduled)', 'Department Name', 'Latitude', 'Longitude', 'Customer Segment', 'Market', 'Order Item Quantity', 'Shipping Mode', 'order_latitude', 'order_longitude']]\n",
        "df.info()"
      ]
    },
    {
      "cell_type": "code",
      "execution_count": null,
      "metadata": {
        "colab": {
          "base_uri": "https://localhost:8080/"
        },
        "id": "8G_UnsHIYSLN",
        "outputId": "1e6f8ae0-464f-4ec4-bc53-3245eff0243f"
      },
      "outputs": [],
      "source": [
        "df['Order Fraud']= [1 if i=='SUSPECTED_FRAUD' else 0 for i in df['Order Status']]\n",
        "df['Order Fraud'].unique()"
      ]
    },
    {
      "cell_type": "code",
      "execution_count": null,
      "metadata": {
        "colab": {
          "base_uri": "https://localhost:8080/"
        },
        "id": "y8MtDhcEH-3F",
        "outputId": "8f65dd6d-6482-4b60-9d44-2b0772659c88"
      },
      "outputs": [],
      "source": [
        "from sklearn.preprocessing import LabelEncoder, StandardScaler, Normalizer\n",
        "for i in df.columns:\n",
        "    if df[i].dtype=='object':\n",
        "        df[i]=LabelEncoder().fit_transform(df[i])\n",
        "df=df.dropna()\n",
        "df.info()"
      ]
    },
    {
      "cell_type": "code",
      "execution_count": null,
      "metadata": {
        "id": "B6mp1-n9RrO4"
      },
      "outputs": [],
      "source": [
        "x = df.drop([\"Late_delivery_risk\", \"Order Fraud\", \"Order Status\"], axis=1).values\n",
        "y = df[['Late_delivery_risk','Order Fraud']].values"
      ]
    },
    {
      "cell_type": "code",
      "execution_count": null,
      "metadata": {
        "id": "kRk7zvuqR9cF"
      },
      "outputs": [],
      "source": [
        "sc = StandardScaler()\n",
        "x = sc.fit_transform(x)"
      ]
    },
    {
      "cell_type": "code",
      "execution_count": null,
      "metadata": {
        "id": "P2sY9k9ySBeU"
      },
      "outputs": [],
      "source": [
        "from sklearn.model_selection import train_test_split\n",
        "x_train, x_test, y_train, y_test = train_test_split(x, y, stratify = y, test_size = 0.2)"
      ]
    },
    {
      "cell_type": "code",
      "execution_count": null,
      "metadata": {
        "id": "tEoexvYzGTUw"
      },
      "outputs": [],
      "source": [
        "from sklearn.ensemble import StackingClassifier, RandomForestClassifier, BaggingClassifier, GradientBoostingClassifier\n",
        "from sklearn.tree import DecisionTreeClassifier\n",
        "m1=DecisionTreeClassifier()\n",
        "m2=RandomForestClassifier()\n",
        "m3=BaggingClassifier()\n",
        "hybrid = StackingClassifier(estimators=[('dtc',m1),('rfc',m2),('bc',m3)],final_estimator=GradientBoostingClassifier())"
      ]
    },
    {
      "cell_type": "code",
      "execution_count": null,
      "metadata": {
        "id": "VbEAU_ozSOM6"
      },
      "outputs": [],
      "source": [
        "from sklearn.multioutput import MultiOutputClassifier\n",
        "model = MultiOutputClassifier(hybrid)"
      ]
    },
    {
      "cell_type": "code",
      "execution_count": null,
      "metadata": {
        "colab": {
          "base_uri": "https://localhost:8080/",
          "height": 187
        },
        "id": "207DkfDPSZld",
        "outputId": "1eb5ed21-5cc2-4494-8d4d-389fd9eca25c"
      },
      "outputs": [],
      "source": [
        "model.fit(x_train, y_train)"
      ]
    },
    {
      "cell_type": "code",
      "execution_count": null,
      "metadata": {
        "id": "vB4GJtyqzi53"
      },
      "outputs": [],
      "source": [
        "from sklearn.metrics import accuracy_score"
      ]
    },
    {
      "cell_type": "code",
      "execution_count": null,
      "metadata": {
        "id": "4VBnW1Eu0ASc"
      },
      "outputs": [],
      "source": [
        "y_train_pred = model.predict(x_train)"
      ]
    },
    {
      "cell_type": "code",
      "execution_count": null,
      "metadata": {
        "colab": {
          "base_uri": "https://localhost:8080/"
        },
        "id": "qKaaoihB0GyI",
        "outputId": "7e13e6b0-278b-4ec9-d474-368f2a9394bc"
      },
      "outputs": [],
      "source": [
        "accuracy_train1 = accuracy_score(y_train[:, 0], y_train_pred[:, 0])\n",
        "percentage_accuracy_train1 = accuracy_train1 * 100\n",
        "print(\"Training Accuracy for late delivery risk prediction: {:.2f}%\".format(percentage_accuracy_train1))"
      ]
    },
    {
      "cell_type": "code",
      "execution_count": null,
      "metadata": {
        "colab": {
          "base_uri": "https://localhost:8080/"
        },
        "id": "z1X4bYhX0dPy",
        "outputId": "b3ff6556-f2e2-4d11-fc10-08094ec4b371"
      },
      "outputs": [],
      "source": [
        "accuracy_train2 = accuracy_score(y_train[:, 1], y_train_pred[:, 1])\n",
        "percentage_accuracy_train2 = accuracy_train2 * 100\n",
        "print(\"Training Accuracy for fraud detection: {:.2f}%\".format(percentage_accuracy_train2))"
      ]
    },
    {
      "cell_type": "code",
      "execution_count": null,
      "metadata": {
        "id": "FgVJmJFpSltK"
      },
      "outputs": [],
      "source": [
        "y_test_pred = model.predict(x_test)"
      ]
    },
    {
      "cell_type": "code",
      "execution_count": null,
      "metadata": {
        "colab": {
          "base_uri": "https://localhost:8080/"
        },
        "id": "OdXOm9rNSqMa",
        "outputId": "667c07e0-a2c4-44dd-a2d2-87d217b0c823"
      },
      "outputs": [],
      "source": [
        "accuracy1 = accuracy_score(y_test[:, 0], y_test_pred[:, 0])\n",
        "percentage_accuracy1 = accuracy1 * 100\n",
        "print(\" Testing Accuracy for late delivery risk prediction: {:.2f}%\".format(percentage_accuracy1))"
      ]
    },
    {
      "cell_type": "code",
      "execution_count": null,
      "metadata": {
        "colab": {
          "base_uri": "https://localhost:8080/"
        },
        "id": "BLlZltVaWnTb",
        "outputId": "48d35528-22c4-4de0-ded8-e28514c3ba40"
      },
      "outputs": [],
      "source": [
        "from sklearn.metrics import classification_report\n",
        "report1 = classification_report(y_test[:, 0], y_test_pred[:, 0])\n",
        "print(\"Classification report for late delivery risk prediction:\\n\", report1)"
      ]
    },
    {
      "cell_type": "code",
      "execution_count": null,
      "metadata": {
        "id": "rDUWN8krM8sF"
      },
      "outputs": [],
      "source": [
        "y_pred_prob = model.predict_proba(x_test)"
      ]
    },
    {
      "cell_type": "code",
      "execution_count": null,
      "metadata": {
        "colab": {
          "base_uri": "https://localhost:8080/",
          "height": 578
        },
        "id": "72OYZHG-KbCa",
        "outputId": "8f9e41c5-347d-4793-b39d-bb5938f61feb"
      },
      "outputs": [],
      "source": [
        "from sklearn.metrics import confusion_matrix\n",
        "import matplotlib.pyplot as plt\n",
        "import seaborn as sns\n",
        "\n",
        "cm1 = confusion_matrix(y_test[:, 0], y_test_pred[:, 0])\n",
        "class_labels1 = ['Class 0', 'Class 1']\n",
        "\n",
        "cmap = sns.diverging_palette(10, 150, s=90, l=60, center='light', as_cmap=True)\n",
        "\n",
        "plt.figure(figsize=(8, 6))\n",
        "sns.set(font_scale=1.2)\n",
        "sns.heatmap(cm1, annot=True, cmap=cmap, fmt='d', xticklabels=class_labels1, yticklabels=class_labels1)\n",
        "\n",
        "plt.xlabel('Predicted')\n",
        "plt.ylabel('Actual')\n",
        "plt.title('Confusion Matrix')\n",
        "\n",
        "plt.show()"
      ]
    },
    {
      "cell_type": "code",
      "execution_count": null,
      "metadata": {
        "colab": {
          "base_uri": "https://localhost:8080/",
          "height": 578
        },
        "id": "Ulrng0dqLXOT",
        "outputId": "147a72c8-b6bc-4395-d24a-bb281b2477ba"
      },
      "outputs": [],
      "source": [
        "from sklearn.metrics import roc_curve, roc_auc_score\n",
        "\n",
        "fpr, tpr, thresholds = roc_curve(y_test[:, 0], y_pred_prob[0][:, 1])\n",
        "roc_auc = roc_auc_score(y_test[:, 0], y_pred_prob[0][:, 1])\n",
        "\n",
        "plt.figure(figsize=(10, 6))\n",
        "plt.plot(fpr, tpr, color='darkorange', lw=2, label='ROC curve (area = {:.2f})'.format(roc_auc))\n",
        "plt.plot([0, 1], [0, 1], color='navy', lw=2, linestyle='--')\n",
        "plt.xlim([0.0, 1.0])\n",
        "plt.ylim([0.0, 1.05])\n",
        "plt.xlabel('False Positive Rate')\n",
        "plt.ylabel('True Positive Rate')\n",
        "plt.title('Receiver Operating Characteristic (ROC) Curve')\n",
        "plt.legend(loc='lower right')\n",
        "plt.show()"
      ]
    },
    {
      "cell_type": "code",
      "execution_count": null,
      "metadata": {
        "colab": {
          "base_uri": "https://localhost:8080/"
        },
        "id": "c29K63KXTcr2",
        "outputId": "cf22cbe4-bfc1-4029-b7a9-56ea5aef76c0"
      },
      "outputs": [],
      "source": [
        "accuracy2 = accuracy_score(y_test[:, 1], y_test_pred[:, 1])\n",
        "percentage_accuracy2 = accuracy2 * 100\n",
        "print(\"Testing Accuracy for fraud detection: {:.2f}%\".format(percentage_accuracy2))"
      ]
    },
    {
      "cell_type": "code",
      "execution_count": null,
      "metadata": {
        "colab": {
          "base_uri": "https://localhost:8080/"
        },
        "id": "tLrbzjJ7WzeN",
        "outputId": "21cd37f5-7fa6-4de0-f5c9-e8921b906145"
      },
      "outputs": [],
      "source": [
        "report2 = classification_report(y_test[:, 1], y_test_pred[:, 1])\n",
        "print(\"Classification report for fraud detection:\\n\", report2)"
      ]
    },
    {
      "cell_type": "code",
      "execution_count": null,
      "metadata": {
        "colab": {
          "base_uri": "https://localhost:8080/",
          "height": 578
        },
        "id": "yh25ApwSK_8O",
        "outputId": "83b1be08-6028-4d24-b9a0-a0a755a5f781"
      },
      "outputs": [],
      "source": [
        "from sklearn.metrics import confusion_matrix\n",
        "import matplotlib.pyplot as plt\n",
        "import seaborn as sns\n",
        "\n",
        "cm2 = confusion_matrix(y_test[:, 1], y_test_pred[:, 1])\n",
        "class_labels2 = ['Class 0', 'Class 1']\n",
        "\n",
        "cmap = sns.diverging_palette(10, 150, s=90, l=60, center='light', as_cmap=True)\n",
        "\n",
        "plt.figure(figsize=(8, 6))\n",
        "sns.set(font_scale=1.2)\n",
        "sns.heatmap(cm2, annot=True, cmap=cmap, fmt='d', xticklabels=class_labels2, yticklabels=class_labels2)\n",
        "\n",
        "plt.xlabel('Predicted')\n",
        "plt.ylabel('Actual')\n",
        "plt.title('Confusion Matrix')\n",
        "\n",
        "plt.show()"
      ]
    },
    {
      "cell_type": "code",
      "execution_count": null,
      "metadata": {
        "colab": {
          "base_uri": "https://localhost:8080/",
          "height": 578
        },
        "id": "vgrB3xa2ONXP",
        "outputId": "5db1f233-3681-42f3-f56a-a901c72aad3a"
      },
      "outputs": [],
      "source": [
        "from sklearn.metrics import roc_curve, roc_auc_score\n",
        "\n",
        "fpr, tpr, thresholds = roc_curve(y_test[:, 1], y_pred_prob[1][:, 1])\n",
        "roc_auc = roc_auc_score(y_test[:, 1], y_pred_prob[1][:, 1])\n",
        "\n",
        "plt.figure(figsize=(10, 6))\n",
        "plt.plot(fpr, tpr, color='darkorange', lw=2, label='ROC curve (area = {:.2f})'.format(roc_auc))\n",
        "plt.plot([0, 1], [0, 1], color='navy', lw=2, linestyle='--')\n",
        "plt.xlim([-0.005, 1.0])\n",
        "plt.ylim([-0.005, 1.05])\n",
        "plt.xlabel('False Positive Rate')\n",
        "plt.ylabel('True Positive Rate')\n",
        "plt.title('Receiver Operating Characteristic (ROC) Curve')\n",
        "plt.legend(loc='lower right')\n",
        "plt.show()"
      ]
    },
    {
      "cell_type": "code",
      "execution_count": null,
      "metadata": {
        "colab": {
          "base_uri": "https://localhost:8080/",
          "height": 423
        },
        "id": "A4IsjK3Ca0vr",
        "outputId": "846919f4-5b79-473b-e0fd-a33c72c845e6"
      },
      "outputs": [],
      "source": [
        "x_test_v = sc.inverse_transform(x_test)\n",
        "x_test_v = pd.DataFrame(x_test_v)\n",
        "x_test_v.columns = ['order day','order hour','order minute','Days for shipment (scheduled)', 'Department Name', 'Latitude', 'Longitude', 'Customer Segment', 'Market', 'Order Item Quantity', 'Shipping Mode', 'order_latitude', 'order_longitude']\n",
        "x_test_v = x_test_v.loc[:, ['order_latitude', 'order_longitude']]\n",
        "x_test_v"
      ]
    },
    {
      "cell_type": "code",
      "execution_count": null,
      "metadata": {
        "colab": {
          "base_uri": "https://localhost:8080/",
          "height": 423
        },
        "id": "SEo8x0VLca7y",
        "outputId": "d0db68d9-d9c3-4766-a0e4-8880faaf0e3f"
      },
      "outputs": [],
      "source": [
        "y_pred_v = pd.DataFrame(y_test_pred)\n",
        "y_pred_v.columns = ['Late_delivery_risk','Order Fraud']\n",
        "y_pred_v"
      ]
    },
    {
      "cell_type": "code",
      "execution_count": null,
      "metadata": {
        "colab": {
          "base_uri": "https://localhost:8080/",
          "height": 423
        },
        "id": "XovCVvoIc7M6",
        "outputId": "e702ccb7-bb16-4882-82af-9fd051e22a91"
      },
      "outputs": [],
      "source": [
        "df_v = pd.concat([x_test_v, y_pred_v], axis=1)\n",
        "df_v"
      ]
    },
    {
      "cell_type": "code",
      "execution_count": null,
      "metadata": {
        "id": "95Tz5crvqjT6"
      },
      "outputs": [],
      "source": [
        "df_v.to_csv(\"/content/drive/MyDrive/SML Project/predicted_output.csv\", index = False)"
      ]
    },
    {
      "cell_type": "code",
      "execution_count": null,
      "metadata": {
        "colab": {
          "base_uri": "https://localhost:8080/"
        },
        "id": "mtaKY-TBdh-u",
        "outputId": "15b28df5-118e-418e-838e-67461da8e451"
      },
      "outputs": [],
      "source": [
        "!pip install folium"
      ]
    },
    {
      "cell_type": "code",
      "execution_count": null,
      "metadata": {
        "id": "oI_40ztNdzsP"
      },
      "outputs": [],
      "source": [
        "import folium\n",
        "\n",
        "m1 = folium.Map(location=[df_v[\"order_latitude\"].mean(), df_v[\"order_longitude\"].mean()], zoom_start=5)\n",
        "\n",
        "# Define a function to set the marker color based on the result\n",
        "def get_marker_color_late(result):\n",
        "    return 'green' if result == 0 else 'red'\n",
        "# Add markers to the map\n",
        "for index, row in df_v.iterrows():\n",
        "    folium.Marker(\n",
        "        location=[row['order_latitude'], row['order_longitude']],\n",
        "        popup=f\"Result: {row['Late_delivery_risk']}\",\n",
        "        icon=folium.Icon(color=get_marker_color_late(row['Late_delivery_risk']))\n",
        "    ).add_to(m1)"
      ]
    },
    {
      "cell_type": "code",
      "execution_count": null,
      "metadata": {
        "id": "djhDbqe-hloZ"
      },
      "outputs": [],
      "source": [
        "m1.save(\"map1.html\")"
      ]
    },
    {
      "cell_type": "code",
      "execution_count": null,
      "metadata": {
        "id": "yk3EJLFjhnQU"
      },
      "outputs": [],
      "source": [
        "m2 = folium.Map(location=[df_v[\"order_latitude\"].mean(), df_v[\"order_longitude\"].mean()], zoom_start=5)\n",
        "\n",
        "# Define a function to set the marker color based on the result\n",
        "def get_marker_color_late(result):\n",
        "    return 'green' if result == 0 else 'red'\n",
        "# Add markers to the map\n",
        "for index, row in df_v.iterrows():\n",
        "    folium.Marker(\n",
        "        location=[row['order_latitude'], row['order_longitude']],\n",
        "        popup=f\"Result: {row['Order Fraud']}\",\n",
        "        icon=folium.Icon(color=get_marker_color_late(row['Order Fraud']))\n",
        "    ).add_to(m2)"
      ]
    },
    {
      "cell_type": "code",
      "execution_count": null,
      "metadata": {
        "id": "stjiV2jYmELh"
      },
      "outputs": [],
      "source": [
        "m2.save(\"map2.html\")"
      ]
    }
  ],
  "metadata": {
    "colab": {
      "provenance": []
    },
    "kernelspec": {
      "display_name": "Python 3",
      "name": "python3"
    },
    "language_info": {
      "name": "python"
    }
  },
  "nbformat": 4,
  "nbformat_minor": 0
}
