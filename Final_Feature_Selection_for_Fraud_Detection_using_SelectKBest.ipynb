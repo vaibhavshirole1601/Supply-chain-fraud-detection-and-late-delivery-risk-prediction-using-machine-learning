{
  "cells": [
    {
      "cell_type": "code",
      "execution_count": null,
      "id": "VEubsp-LxC6q",
      "metadata": {
        "colab": {
          "base_uri": "https://localhost:8080/"
        },
        "id": "VEubsp-LxC6q",
        "outputId": "24cfd036-298f-4e62-c654-5fce76074919"
      },
      "outputs": [],
      "source": [
        "from google.colab import drive\n",
        "drive.mount('/content/drive')"
      ]
    },
    {
      "cell_type": "code",
      "execution_count": null,
      "id": "8efbc615",
      "metadata": {
        "id": "8efbc615"
      },
      "outputs": [],
      "source": [
        "import numpy as np\n",
        "import pandas as pd"
      ]
    },
    {
      "cell_type": "code",
      "execution_count": null,
      "id": "b673658a",
      "metadata": {
        "colab": {
          "base_uri": "https://localhost:8080/",
          "height": 377
        },
        "id": "b673658a",
        "outputId": "ba18ec01-f233-4650-ded4-eb7e4c709245"
      },
      "outputs": [],
      "source": [
        "data=pd.read_excel(\"/content/drive/MyDrive/SML Project/Supply_Chain.xlsx\")\n",
        "data.head()"
      ]
    },
    {
      "cell_type": "code",
      "execution_count": null,
      "id": "134723b3",
      "metadata": {
        "colab": {
          "base_uri": "https://localhost:8080/"
        },
        "id": "134723b3",
        "outputId": "53e464ea-dc72-41dd-e640-5f84096ca90d"
      },
      "outputs": [],
      "source": [
        "data.info()"
      ]
    },
    {
      "cell_type": "code",
      "execution_count": null,
      "id": "9c1a6dc3",
      "metadata": {
        "id": "9c1a6dc3"
      },
      "outputs": [],
      "source": [
        "data['order date']= pd.to_datetime(data['order date (DateOrders)'])\n",
        "data['shipping date']= pd.to_datetime(data['shipping date (DateOrders)'])"
      ]
    },
    {
      "cell_type": "code",
      "execution_count": null,
      "id": "198c2596",
      "metadata": {
        "id": "198c2596"
      },
      "outputs": [],
      "source": [
        "data['order year']=data['order date'].dt.year\n",
        "data['order month']=data['order date'].dt.month\n",
        "data['order day']=data['order date'].dt.day\n",
        "data['order hour']=data['order date'].dt.hour\n",
        "data['order minute']=data['order date'].dt.minute\n",
        "\n",
        "data['shipping year']=data['shipping date'].dt.year\n",
        "data['shipping month']=data['shipping date'].dt.month\n",
        "data['shipping day']=data['shipping date'].dt.day\n",
        "data['shipping hour']=data['shipping date'].dt.hour\n",
        "data['shipping minute']=data['shipping date'].dt.minute"
      ]
    },
    {
      "cell_type": "code",
      "execution_count": null,
      "id": "d70a4b3d",
      "metadata": {
        "colab": {
          "base_uri": "https://localhost:8080/"
        },
        "id": "d70a4b3d",
        "outputId": "92c19e4a-f952-40da-be1d-f5fadc068e48"
      },
      "outputs": [],
      "source": [
        "df=data.loc[:,['Days for shipment (scheduled)','order day','order hour','order minute','Benefit per order','Category Name','Latitude','Longitude','Customer Segment','Department Name','Market','Order Item Discount','Order Item Product Price','Order Item Quantity','Order Item Total','Product Name','shipping day','shipping hour','shipping minute','Shipping Mode','Late_delivery_risk','Order Status','order_latitude','order_longitude']]\n",
        "df.info()"
      ]
    },
    {
      "cell_type": "code",
      "execution_count": null,
      "id": "34b079d3",
      "metadata": {
        "colab": {
          "base_uri": "https://localhost:8080/"
        },
        "id": "34b079d3",
        "outputId": "7c49ac55-15b2-4d62-9b38-6a33d29555a7"
      },
      "outputs": [],
      "source": [
        "df['Order Fraud']= [1 if i=='SUSPECTED_FRAUD' else 0 for i in df['Order Status']]\n",
        "df['Order Fraud'].unique()"
      ]
    },
    {
      "cell_type": "code",
      "execution_count": null,
      "id": "c1049de4",
      "metadata": {
        "colab": {
          "base_uri": "https://localhost:8080/"
        },
        "id": "c1049de4",
        "outputId": "b6a7751a-eefe-417b-cf2f-377f89d42680"
      },
      "outputs": [],
      "source": [
        "from sklearn.preprocessing import LabelEncoder, StandardScaler, Normalizer\n",
        "for i in df.columns:\n",
        "    if df[i].dtype=='object':\n",
        "        df[i]=LabelEncoder().fit_transform(df[i])\n",
        "df=df.dropna()\n",
        "df.info()"
      ]
    },
    {
      "cell_type": "code",
      "execution_count": null,
      "id": "ZG0zmlRe1VDU",
      "metadata": {
        "id": "ZG0zmlRe1VDU"
      },
      "outputs": [],
      "source": [
        "y=df[['Order Fraud']].values\n",
        "x=df.drop(['Late_delivery_risk','Order Fraud','Order Status'],axis=1).values"
      ]
    },
    {
      "cell_type": "code",
      "execution_count": null,
      "id": "j6UmR3F-Bt6l",
      "metadata": {
        "id": "j6UmR3F-Bt6l"
      },
      "outputs": [],
      "source": [
        "x = StandardScaler().fit_transform(x)"
      ]
    },
    {
      "cell_type": "code",
      "execution_count": null,
      "id": "uH9uCY4DveWc",
      "metadata": {
        "colab": {
          "base_uri": "https://localhost:8080/"
        },
        "id": "uH9uCY4DveWc",
        "outputId": "479ae3dd-7134-48fc-b1c0-40b0ebc660fa"
      },
      "outputs": [],
      "source": [
        "from sklearn.feature_selection import SelectKBest, mutual_info_classif\n",
        "import pandas as pd\n",
        "\n",
        "# k = 10  #k value can be modified as per requirement.\n",
        "best_features = SelectKBest(score_func=mutual_info_classif)\n",
        "X_new = best_features.fit_transform(x, y)"
      ]
    },
    {
      "cell_type": "code",
      "execution_count": null,
      "id": "LzqDtTRFCGd3",
      "metadata": {
        "colab": {
          "base_uri": "https://localhost:8080/"
        },
        "id": "LzqDtTRFCGd3",
        "outputId": "f72b0727-7b95-4f40-a51e-36b118111988"
      },
      "outputs": [],
      "source": [
        "selected_feature_indices = best_features.get_support(indices=True)\n",
        "print(selected_feature_indices)"
      ]
    },
    {
      "cell_type": "code",
      "execution_count": null,
      "id": "bk7uM3q7CQeJ",
      "metadata": {
        "colab": {
          "base_uri": "https://localhost:8080/"
        },
        "id": "bk7uM3q7CQeJ",
        "outputId": "f73a2bdc-0703-43d8-a165-01c612cde83c"
      },
      "outputs": [],
      "source": [
        "x=df.drop(['Late_delivery_risk','Order Fraud','Order Status'],axis=1)\n",
        "selected_feature_names = x.columns[selected_feature_indices]\n",
        "print(\"Selected features:\")\n",
        "print(selected_feature_names)"
      ]
    }
  ],
  "metadata": {
    "colab": {
      "provenance": []
    },
    "kernelspec": {
      "display_name": "Python 3",
      "language": "python",
      "name": "python3"
    },
    "language_info": {
      "codemirror_mode": {
        "name": "ipython",
        "version": 3
      },
      "file_extension": ".py",
      "mimetype": "text/x-python",
      "name": "python",
      "nbconvert_exporter": "python",
      "pygments_lexer": "ipython3",
      "version": "3.8.8"
    }
  },
  "nbformat": 4,
  "nbformat_minor": 5
}
