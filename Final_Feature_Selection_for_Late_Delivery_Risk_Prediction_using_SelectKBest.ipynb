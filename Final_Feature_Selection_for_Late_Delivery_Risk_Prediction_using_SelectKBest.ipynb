{
  "cells": [
    {
      "cell_type": "code",
      "execution_count": null,
      "id": "VEubsp-LxC6q",
      "metadata": {
        "colab": {
          "base_uri": "https://localhost:8080/"
        },
        "id": "VEubsp-LxC6q",
        "outputId": "ad53235a-2b35-4290-d740-c8e2e9775050"
      },
      "outputs": [],
      "source": [
        "from google.colab import drive\n",
        "drive.mount('/content/drive')"
      ]
    },
    {
      "cell_type": "code",
      "execution_count": null,
      "id": "8efbc615",
      "metadata": {
        "id": "8efbc615"
      },
      "outputs": [],
      "source": [
        "import numpy as np\n",
        "import pandas as pd"
      ]
    },
    {
      "cell_type": "code",
      "execution_count": null,
      "id": "b673658a",
      "metadata": {
        "colab": {
          "base_uri": "https://localhost:8080/",
          "height": 377
        },
        "id": "b673658a",
        "outputId": "eea96db0-9144-4759-8061-c2f681b50617"
      },
      "outputs": [],
      "source": [
        "data=pd.read_excel(\"/content/drive/MyDrive/SML Project/Supply_Chain.xlsx\")\n",
        "data.head()"
      ]
    },
    {
      "cell_type": "code",
      "execution_count": null,
      "id": "134723b3",
      "metadata": {
        "colab": {
          "base_uri": "https://localhost:8080/"
        },
        "id": "134723b3",
        "outputId": "9ed4e2e3-3a0f-4c92-f156-40323801eb60"
      },
      "outputs": [],
      "source": [
        "data.info()"
      ]
    },
    {
      "cell_type": "code",
      "execution_count": null,
      "id": "oXBKeJz_vq3E",
      "metadata": {
        "id": "oXBKeJz_vq3E"
      },
      "outputs": [],
      "source": [
        "data['order date']= pd.to_datetime(data['order date (DateOrders)'])\n",
        "data['shipping date']= pd.to_datetime(data['shipping date (DateOrders)'])"
      ]
    },
    {
      "cell_type": "code",
      "execution_count": null,
      "id": "kP2ay5gDvs_C",
      "metadata": {
        "id": "kP2ay5gDvs_C"
      },
      "outputs": [],
      "source": [
        "data['order year']=data['order date'].dt.year\n",
        "data['order month']=data['order date'].dt.month\n",
        "data['order day']=data['order date'].dt.day\n",
        "data['order hour']=data['order date'].dt.hour\n",
        "data['order minute']=data['order date'].dt.minute\n",
        "\n",
        "data['shipping year']=data['shipping date'].dt.year\n",
        "data['shipping month']=data['shipping date'].dt.month\n",
        "data['shipping day']=data['shipping date'].dt.day\n",
        "data['shipping hour']=data['shipping date'].dt.hour\n",
        "data['shipping minute']=data['shipping date'].dt.minute"
      ]
    },
    {
      "cell_type": "code",
      "execution_count": null,
      "id": "lPjF1eXhvmqO",
      "metadata": {
        "colab": {
          "base_uri": "https://localhost:8080/"
        },
        "id": "lPjF1eXhvmqO",
        "outputId": "95abfa16-0265-4ed3-f213-4c8be0971c9e"
      },
      "outputs": [],
      "source": [
        "df=data.loc[:,['Days for shipment (scheduled)','order day','order hour','order minute','Benefit per order','Category Name','Latitude','Longitude','Customer Segment','Department Name','Market','Order Item Discount','Order Item Product Price','Order Item Quantity','Order Item Total','Product Name','shipping day','shipping hour','shipping minute','Shipping Mode','Late_delivery_risk','Order Status','order_latitude','order_longitude']]\n",
        "df.info()"
      ]
    },
    {
      "cell_type": "code",
      "execution_count": null,
      "id": "c1049de4",
      "metadata": {
        "colab": {
          "base_uri": "https://localhost:8080/"
        },
        "id": "c1049de4",
        "outputId": "14594ae0-33d5-4a41-c4e6-0841b7174a0f"
      },
      "outputs": [],
      "source": [
        "from sklearn.preprocessing import LabelEncoder, StandardScaler, Normalizer\n",
        "for i in df.columns:\n",
        "    if df[i].dtype=='object':\n",
        "        df[i]=LabelEncoder().fit_transform(df[i])\n",
        "df=df.dropna()\n",
        "df.info()"
      ]
    },
    {
      "cell_type": "code",
      "execution_count": null,
      "id": "ZG0zmlRe1VDU",
      "metadata": {
        "id": "ZG0zmlRe1VDU"
      },
      "outputs": [],
      "source": [
        "y=df[['Late_delivery_risk']].values\n",
        "x=df.drop(['Late_delivery_risk','Order Status'],axis=1).values"
      ]
    },
    {
      "cell_type": "code",
      "execution_count": null,
      "id": "_ByT25TYwKpj",
      "metadata": {
        "id": "_ByT25TYwKpj"
      },
      "outputs": [],
      "source": [
        "x = StandardScaler().fit_transform(x)"
      ]
    },
    {
      "cell_type": "code",
      "execution_count": null,
      "id": "uH9uCY4DveWc",
      "metadata": {
        "colab": {
          "base_uri": "https://localhost:8080/"
        },
        "id": "uH9uCY4DveWc",
        "outputId": "35a8fa7b-23a0-47d5-dbda-f0a6fe7c0b25"
      },
      "outputs": [],
      "source": [
        "from sklearn.feature_selection import SelectKBest, mutual_info_classif\n",
        "import pandas as pd\n",
        "\n",
        "# k = 10  #k value can be modified as per requirement.\n",
        "best_features = SelectKBest(score_func=mutual_info_classif)\n",
        "X_new = best_features.fit_transform(x, y)"
      ]
    },
    {
      "cell_type": "code",
      "execution_count": null,
      "id": "DYMVRn3swgS-",
      "metadata": {
        "colab": {
          "base_uri": "https://localhost:8080/"
        },
        "id": "DYMVRn3swgS-",
        "outputId": "36c3aace-17e6-48a6-ca4c-db7f729bfe5c"
      },
      "outputs": [],
      "source": [
        "selected_feature_indices = best_features.get_support(indices=True)\n",
        "print(selected_feature_indices)"
      ]
    },
    {
      "cell_type": "code",
      "execution_count": null,
      "id": "tcznDvmwwX8Z",
      "metadata": {
        "colab": {
          "base_uri": "https://localhost:8080/"
        },
        "id": "tcznDvmwwX8Z",
        "outputId": "85a19731-8a83-44ff-df0b-2e667d608bde"
      },
      "outputs": [],
      "source": [
        "x=df.drop(['Late_delivery_risk','Order Status'],axis=1)\n",
        "selected_feature_names = x.columns[selected_feature_indices]\n",
        "print(\"Selected features:\")\n",
        "print(selected_feature_names)"
      ]
    }
  ],
  "metadata": {
    "colab": {
      "provenance": []
    },
    "kernelspec": {
      "display_name": "Python 3",
      "language": "python",
      "name": "python3"
    },
    "language_info": {
      "codemirror_mode": {
        "name": "ipython",
        "version": 3
      },
      "file_extension": ".py",
      "mimetype": "text/x-python",
      "name": "python",
      "nbconvert_exporter": "python",
      "pygments_lexer": "ipython3",
      "version": "3.8.8"
    }
  },
  "nbformat": 4,
  "nbformat_minor": 5
}
