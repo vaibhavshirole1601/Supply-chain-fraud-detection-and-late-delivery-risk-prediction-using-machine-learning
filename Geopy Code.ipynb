{
  "cells": [
    {
      "cell_type": "code",
      "execution_count": null,
      "metadata": {},
      "outputs": [],
      "source": [
        "import pandas as pd\n",
        "import geopy.geocoders\n",
        "df = pd.read_excel('C:/Users/Vaibh/Downloads/Subsets/Subset-2/subset_1.xlsx')\n",
        "\n",
        "\n",
        "df[\"order_latitude\"] = None\n",
        "df[\"order_longitude\"] = None\n",
        "\n",
        "\n",
        "def get_lat_long(city):\n",
        "\n",
        "  geolocator = geopy.geocoders.Nominatim(user_agent=\"MyApp\")\n",
        "  location = geolocator.geocode(f\"{city}\")\n",
        "\n",
        "  if location is None:\n",
        "    return None\n",
        "\n",
        "  return location.latitude, location.longitude\n",
        "\n",
        "i=0\n",
        "hit= 0\n",
        "def mainLogic():\n",
        "    global i     \n",
        "    for j in range(i, len(df)):\n",
        "        try:\n",
        "            df[\"order_latitude\"][j], df[\"order_longitude\"][j] = get_lat_long(\"\".join(df[\"Order City\"][j]))\n",
        "            print(j)\n",
        "            i+=1\n",
        "        except TypeError:\n",
        "            global hit\n",
        "            hit+=1\n",
        "            print(j, hit)\n",
        "            i+=1\n",
        "            continue\n",
        "        except: \n",
        "           print(j, \"TimeOut\")\n",
        "           i = j             \n",
        "           break\n",
        "\n",
        "while i < len(df):\n",
        "   mainLogic()\n",
        "\n",
        "df.to_excel(\"C:/Users/Vaibh/Downloads/Updated CSV/subset_1.xlsx\")"
      ]
    }
  ],
  "metadata": {
    "colab": {
      "provenance": []
    },
    "kernelspec": {
      "display_name": "Python 3",
      "name": "python3"
    },
    "language_info": {
      "codemirror_mode": {
        "name": "ipython",
        "version": 3
      },
      "file_extension": ".py",
      "mimetype": "text/x-python",
      "name": "python",
      "nbconvert_exporter": "python",
      "pygments_lexer": "ipython3",
      "version": "3.9.12"
    }
  },
  "nbformat": 4,
  "nbformat_minor": 0
}
